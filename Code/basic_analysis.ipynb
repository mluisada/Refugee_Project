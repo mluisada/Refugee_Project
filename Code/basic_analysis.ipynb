{
 "cells": [
  {
   "cell_type": "markdown",
   "metadata": {},
   "source": [
    "# Exploration\n",
    "\n",
    "Help from : https://marcobonzanini.com/2015/05/17/mining-twitter-data-with-python-part-6-sentiment-analysis-basics/\n"
   ]
  },
  {
   "cell_type": "code",
   "execution_count": 1,
   "metadata": {
    "collapsed": true
   },
   "outputs": [],
   "source": [
    "import tweepy\n",
    "from tweepy import OAuthHandler\n",
    " \n",
    "consumer_key = 'MY_CONSUMER_KEY'\n",
    "consumer_secret = 'MY_CONSUMER_SECRET'\n",
    "access_token = 'MY_ACCESS_TOKEN'\n",
    "access_secret = 'MY_ACCESS_SECRET'\n",
    " \n",
    "auth = OAuthHandler(consumer_key, consumer_secret)\n",
    "auth.set_access_token(access_token, access_secret)\n",
    " \n",
    "api = tweepy.API(auth)"
   ]
  },
  {
   "cell_type": "markdown",
   "metadata": {},
   "source": [
    "## Get stream of tweets"
   ]
  },
  {
   "cell_type": "code",
   "execution_count": 2,
   "metadata": {
    "collapsed": false
   },
   "outputs": [],
   "source": [
    "import json\n",
    "\n",
    "# get stream of tweets\n",
    "from tweepy import Stream\n",
    "from tweepy.streaming import StreamListener"
   ]
  },
  {
   "cell_type": "raw",
   "metadata": {},
   "source": [
    "class StdOutListener(StreamListener):\n",
    "\n",
    "    def on_data(self, data):\n",
    "        print(data)\n",
    "        return True\n",
    "\n",
    "    def on_error(self, status):\n",
    "        print(status)\n",
    "\n",
    "\n",
    "if __name__ == '__main__':\n",
    "\n",
    "    #This handles Twitter authetification and the connection to Twitter Streaming API\n",
    "    l = StdOutListener()\n",
    "    auth = OAuthHandler(consumer_key, consumer_secret)\n",
    "    auth.set_access_token(access_token, access_secret)\n",
    "    stream = Stream(auth, l)\n",
    "\n",
    "    #This line filter Twitter Streams to capture data by the keywords: 'python', 'javascript', 'ruby'\n",
    "    stream.filter(track=['refugee', '#refugee', '#Refugee', 'asylum seeker', '#asylum seeker', 'refugee camp', '#refugee camp', 'refugee crisis', '#refugee crisis', 'migrant', '#migrant', 'migrant crisis', '#migrant crisis','economic migrant', '#economic migrant'])"
   ]
  },
  {
   "cell_type": "markdown",
   "metadata": {},
   "source": [
    "## Preprocessing text\n",
    "\n",
    "We can use a custom tokeniser to split the tweets into a list of terms. The following code uses the preprocess() function, in order to capture Twitter-specific aspects of the text, such as #hashtags"
   ]
  },
  {
   "cell_type": "code",
   "execution_count": 3,
   "metadata": {
    "collapsed": false
   },
   "outputs": [],
   "source": [
    "import re\n",
    " \n",
    "emoticons_str = r\"\"\"\n",
    "    (?:\n",
    "        [:=;] # Eyes\n",
    "        [oO\\-]? # Nose (optional)\n",
    "        [D\\)\\]\\(\\]/\\\\OpP] # Mouth\n",
    "    )\"\"\"\n",
    " \n",
    "regex_str = [\n",
    "    emoticons_str,\n",
    "    r'<[^>]+>', # HTML tags\n",
    "    r'(?:@[\\w_]+)', # @-mentions\n",
    "    r\"(?:\\#+[\\w_]+[\\w\\'_\\-]*[\\w_]+)\", # hash-tags\n",
    "    r'http[s]?://(?:[a-z]|[0-9]|[$-_@.&amp;+]|[!*\\(\\),]|(?:%[0-9a-f][0-9a-f]))+', # URLs\n",
    " \n",
    "    r'(?:(?:\\d+,?)+(?:\\.?\\d+)?)', # numbers\n",
    "    r\"(?:[a-z][a-z'\\-_]+[a-z])\", # words with - and '\n",
    "    r'(?:[\\w_]+)', # other words\n",
    "    r'(?:\\S)' # anything else\n",
    "]\n",
    "\n",
    "def tokenize(s):\n",
    "    return tokens_re.findall(s)\n",
    " \n",
    "def preprocess(s, lowercase=False):\n",
    "    tokens = tokenize(s)\n",
    "    if lowercase:\n",
    "        tokens = [token if emoticon_re.search(token) else token.lower() for token in tokens]\n",
    "    return tokens\n",
    " \n",
    "    \n",
    "tokens_re = re.compile(r'('+'|'.join(regex_str)+')', re.VERBOSE | re.IGNORECASE)\n",
    "emoticon_re = re.compile(r'^'+emoticons_str+'$', re.VERBOSE | re.IGNORECASE)\n"
   ]
  },
  {
   "cell_type": "code",
   "execution_count": 4,
   "metadata": {
    "collapsed": false
   },
   "outputs": [],
   "source": [
    "## Removing stop words\n",
    "#import nltk\n",
    "#nltk.download('stopwords')\n",
    "\n",
    "import operator \n",
    "import json\n",
    "from collections import Counter\n",
    "from nltk.corpus import stopwords\n",
    "import string\n",
    " \n",
    "punctuation = list(string.punctuation)\n",
    "stop = stopwords.words('english') + punctuation + ['rt', 'via', 'RT', '…', '\\U0001f923']"
   ]
  },
  {
   "cell_type": "code",
   "execution_count": 5,
   "metadata": {
    "collapsed": false
   },
   "outputs": [],
   "source": [
    "#https://dev.twitter.com/streaming/overview/connecting\n",
    "import os\n",
    "my_doc_path = os.path.expanduser('~/Documents')\n",
    "git_loc = os.path.expanduser('~/Github')\n",
    "\n",
    "tweets_data_path = my_doc_path + '/Refugee_Project/Tweets/tweets_20170709.txt'\n",
    "\n",
    "tweets_data = []\n",
    "tweets_file = open(tweets_data_path, \"r\")"
   ]
  },
  {
   "cell_type": "code",
   "execution_count": 6,
   "metadata": {
    "collapsed": false
   },
   "outputs": [
    {
     "name": "stdout",
     "output_type": "stream",
     "text": [
      "Nb of tweets 34470 \n",
      "\n",
      "0 : RT @MSF_Sea: Doesnt matter if he's an asylum seeker, a refugee, an economic migrant or a jedi knight. He was vulnerable at sea &amp;…  \n",
      "\n",
      "1 : RT @ubiqsmart: FemRight is a non-profit for health, education, empowerment and inclusion of refugee girls in the Middle East and A…  \n",
      "\n",
      "2 : RT @mortensode: Godt indspark: Re-definition af #flygtninge begrebet r nødvendigt https://t.co/RyPJUfFdlf \n",
      "\n",
      "3 : RT @robabdul: Some GOOD NEWS:\n",
      "Jim Estill, an amazing man paid for 58 refugee families to resettle in Canada!\n",
      "\n",
      "#Humanity #hope…  \n",
      "\n",
      "4 : Europe's Liberal Elite Outraged After Renzi Says Italy Has \"No Moral Duty To Take In Migrants\"  https://t.co/N1mukccEKE \n",
      "\n"
     ]
    }
   ],
   "source": [
    "# view a few tweets (text)\n",
    "for line in tweets_file:\n",
    "    try:\n",
    "        tweet = json.loads(line)\n",
    "        tweets_data.append(tweet)\n",
    "    except:\n",
    "        continue\n",
    "        \n",
    "        \n",
    "\n",
    "print('Nb of tweets', len(tweets_data),  '\\n') #34,470\n",
    "\n",
    "for i in range(5):\n",
    "    print(i, ':', tweets_data[i]['text'], '\\n')"
   ]
  },
  {
   "cell_type": "code",
   "execution_count": 7,
   "metadata": {
    "collapsed": false
   },
   "outputs": [
    {
     "name": "stdout",
     "output_type": "stream",
     "text": [
      "Hashtags:  [('#Balochistan', 658), ('#Clooney', 640), ('#UK', 629), ('#Europe', 415), ('#Invasion', 371), ('#ChildrenUprooted', 202), ('#refugee', 199), ('#Refugee', 173), ('#G20', 150), ('#AChildIsAChild', 141), ('#Syria', 129), ('#GeorgeClooney', 112), ('#frees', 110), ('#MAGA', 93), ('#', 86), ('#ma4t', 81), ('#climate', 81), ('#DefendEuropa', 80), ('#Orban', 80), ('#migrant', 68)] \n",
      "\n",
      "Tags :  [('@TRobinsonNewEra', 2926), ('@PrisonPlanet', 2219), ('@AmyMek', 1676), ('@DineshDSouza', 1356), ('@V_of_Europe', 1091), ('@joshdcaplan', 1045), ('@ChooseToBFree', 987), ('@StefanMolyneux', 971), ('@PinkBelgium', 741), ('@TheMarkRomano', 729), ('@DavidJo52951945', 709), ('@Timcast', 509), ('@Voices4Humanity', 491), ('@horowitz39', 477), ('@UNICEF', 336), ('@RavenNightMyst', 330), ('@defencepk', 298), ('@JulianBurnside', 272), ('@PeterDutton_MP', 262), ('@bbusa617', 237)] \n",
      "\n",
      "Terms :  [('refugee', 9270), ('Clooney', 7396), ('George', 4959), ('Migrant', 4720), ('migrant', 4076), ('amp', 3798), ('The', 3263), ('terrorists', 3259), ('I', 3019), ('Refugee', 2983), ('hypocrite', 2944), ('Europe', 2939), ('world', 2795), ('like', 2678), ('produce', 2512), ('You', 2392), ('still', 2377), ('crisis', 2366), ('people', 2317), ('fucking', 2247)] \n",
      "\n"
     ]
    }
   ],
   "source": [
    "# count more recurring terms\n",
    "\n",
    "count_all = Counter()\n",
    "count_hash = Counter()\n",
    "count_at = Counter()\n",
    "count_only = Counter()\n",
    "\n",
    "for tweet_id in range(len(tweets_data)):\n",
    "    if 'text' in tweets_data[tweet_id].keys():\n",
    "        terms_all = [term for term in preprocess(tweets_data[tweet_id]['text'], lowercase = True) if term not in stop]\n",
    "        terms_hash = [term for term in preprocess(tweets_data[tweet_id]['text']) if term.startswith('#')]\n",
    "        terms_at = [term for term in preprocess(tweets_data[tweet_id]['text']) if term.startswith('@')]\n",
    "        terms_only = [term for term in preprocess(tweets_data[tweet_id]['text']) if term not in stop and not term.startswith(('@', '#'))]\n",
    "        \n",
    "        count_all.update(terms_all)\n",
    "        count_hash.update(terms_hash)\n",
    "        count_at.update(terms_at)\n",
    "        count_only.update(terms_only)\n",
    "\n",
    "#print(count_all.most_common(20), '\\n')\n",
    "print('Hashtags: ', count_hash.most_common(20), '\\n')\n",
    "print('Tags : ', count_at.most_common(20), '\\n')\n",
    "print('Terms : ', count_only.most_common(20), '\\n')"
   ]
  },
  {
   "cell_type": "code",
   "execution_count": 8,
   "metadata": {
    "collapsed": false
   },
   "outputs": [
    {
     "name": "stdout",
     "output_type": "stream",
     "text": [
      "[(('Bin', 'Laden'), 2234), (('fucking', 'idiots'), 2229), (('produce', 'terrorists'), 2229), (('harboured', 'Bin'), 2228), (('idiots', 'You'), 2228), (('terrorists', 'world'), 2228), (('world', 'fucking'), 2228), (('Laden', 'still'), 2228), (('You', 'harboured'), 2228), (('harbour', 'Dawood'), 2228), (('still', 'harbour'), 2228), (('George', 'Clooney'), 1774), (('George', 'refugee'), 1745), (('hypocrite', 'George'), 1744), (('ever', 'bigger'), 1743), (('bigger', 'hypocrite'), 1743), (('Has', 'ever'), 1742), (('refugee', 'Clooney'), 1741), (('Clooney', 'SHARE'), 1737), (('SHARE', 'https://t.co/s9wwox6J8w'), 1721)]\n"
     ]
    }
   ],
   "source": [
    "# adjacent tokens\n",
    "\n",
    "from nltk import bigrams \n",
    "from collections import Counter\n",
    "\n",
    " \n",
    "    \n",
    "count_adj = Counter()\n",
    "for tweet_id in range(len(tweets_data)):\n",
    "    if 'text' in tweets_data[tweet_id].keys():\n",
    "        terms_adj = [term for term in preprocess(tweets_data[tweet_id]['text']) if term not in stop and not term.startswith(('@', '#'))]\n",
    "        terms_bigram = bigrams(terms_adj)\n",
    "        count_adj.update(terms_bigram)\n",
    "\n",
    "print(count_adj.most_common(20))"
   ]
  },
  {
   "cell_type": "code",
   "execution_count": 9,
   "metadata": {
    "collapsed": false
   },
   "outputs": [],
   "source": [
    "# co-occurences: adjacent tokens\n",
    "from collections import Counter\n",
    "from collections import defaultdict\n",
    "# remember to include the other import from the previous post\n",
    " \n",
    "com = defaultdict(lambda : defaultdict(int))\n",
    " \n",
    "for tweet_id in range(len(tweets_data)):\n",
    "    if 'text' in tweets_data[tweet_id].keys():\n",
    "        terms_co = [term for term in preprocess(tweets_data[tweet_id]['text']) if term not in stop and not term.startswith(('@', '#'))]\n",
    "        \n",
    "        # Build co-occurrence matrix\n",
    "        for i in range(len(terms_co)-1):            \n",
    "            for j in range(i+1, len(terms_co)):\n",
    "                w1, w2 = sorted([terms_co[i], terms_co[j]])                \n",
    "                if w1 != w2:\n",
    "                    com[w1][w2] += 1\n",
    "                    \n",
    "com_max = []\n",
    "# For each term, look for the most common co-occurrent terms\n",
    "for t1 in com:\n",
    "    t1_max_terms = sorted(com[t1].items(), key=operator.itemgetter(1), reverse=True)[:5]\n",
    "    for t2, t2_count in t1_max_terms:\n",
    "        com_max.append(((t1, t2), t2_count))\n",
    "# Get the most frequent co-occurrences\n",
    "terms_max = sorted(com_max, key=operator.itemgetter(1), reverse=True)"
   ]
  },
  {
   "cell_type": "code",
   "execution_count": 10,
   "metadata": {
    "collapsed": false
   },
   "outputs": [
    {
     "name": "stdout",
     "output_type": "stream",
     "text": [
      "[(('Clooney', 'George'), 4879), (('Clooney', 'refugee'), 3686), (('George', 'refugee'), 3120), (('➖', '️'), 2962), (('➖', '⭕'), 2960), (('produce', 'world'), 2506), (('Clooney', 'hypocrite'), 2267), (('hypocrite', 'refugee'), 2259), (('You', 'terrorists'), 2235), (('Bin', 'Laden'), 2234), (('You', 'produce'), 2230), (('produce', 'terrorists'), 2229), (('fucking', 'idiots'), 2229), (('still', 'world'), 2229), (('You', 'world'), 2229), (('terrorists', 'world'), 2228), (('produce', 'still'), 2228), (('idiots', 'terrorists'), 2228), (('idiots', 'produce'), 2228), (('idiots', 'world'), 2228)]\n"
     ]
    }
   ],
   "source": [
    "print(terms_max[:20])"
   ]
  },
  {
   "cell_type": "markdown",
   "metadata": {},
   "source": [
    "### Vincent\n",
    "Vincent bridges the gap between a Python back-end and a front-end that supports D3.js visualisation, allowing us to benefit from both sides. The tagline of Vincent is in fact “The data capabilities of Python."
   ]
  },
  {
   "cell_type": "code",
   "execution_count": 11,
   "metadata": {
    "collapsed": false
   },
   "outputs": [
    {
     "data": {
      "text/html": [
       "\n",
       "           <script>\n",
       "               \n",
       "                function vct_load_lib(url, callback){\n",
       "                      if(typeof d3 !== 'undefined' &&\n",
       "                         url === 'http://d3js.org/d3.v3.min.js'){\n",
       "                        callback()\n",
       "                      }\n",
       "                      var s = document.createElement('script');\n",
       "                      s.src = url;\n",
       "                      s.async = true;\n",
       "                      s.onreadystatechange = s.onload = callback;\n",
       "                      s.onerror = function(){\n",
       "                        console.warn(\"failed to load library \" + url);\n",
       "                        };\n",
       "                      document.getElementsByTagName(\"head\")[0].appendChild(s);\n",
       "                };\n",
       "                var vincent_event = new CustomEvent(\n",
       "                  \"vincent_libs_loaded\",\n",
       "                  {bubbles: true, cancelable: true}\n",
       "                );\n",
       "                \n",
       "               function load_all_libs(){\n",
       "                  console.log('Loading Vincent libs...')\n",
       "                  vct_load_lib('http://d3js.org/d3.v3.min.js', function(){\n",
       "                  vct_load_lib('http://d3js.org/d3.geo.projection.v0.min.js', function(){\n",
       "                  vct_load_lib('http://wrobstory.github.io/d3-cloud/d3.layout.cloud.js', function(){\n",
       "                  vct_load_lib('http://wrobstory.github.io/vega/vega.v1.3.3.js', function(){\n",
       "                  window.dispatchEvent(vincent_event);\n",
       "                  });\n",
       "                  });\n",
       "                  });\n",
       "                  });\n",
       "               };\n",
       "               if(typeof define === \"function\" && define.amd){\n",
       "                    if (window['d3'] === undefined ||\n",
       "                        window['topojson'] === undefined){\n",
       "                        require.config(\n",
       "                            {paths: {\n",
       "                              d3: 'http://d3js.org/d3.v3.min',\n",
       "                              topojson: 'http://d3js.org/topojson.v1.min'\n",
       "                              }\n",
       "                            }\n",
       "                          );\n",
       "                        require([\"d3\"], function(d3){\n",
       "                            console.log('Loading Vincent from require.js...')\n",
       "                            window.d3 = d3;\n",
       "                            require([\"topojson\"], function(topojson){\n",
       "                                window.topojson = topojson;\n",
       "                                load_all_libs();\n",
       "                            });\n",
       "                        });\n",
       "                    } else {\n",
       "                        load_all_libs();\n",
       "                    };\n",
       "               }else{\n",
       "                    console.log('Require.js not found, loading manually...')\n",
       "                    load_all_libs();\n",
       "               };\n",
       "\n",
       "           </script>"
      ],
      "text/plain": [
       "<IPython.core.display.HTML object>"
      ]
     },
     "metadata": {},
     "output_type": "display_data"
    }
   ],
   "source": [
    "import vincent\n",
    "vincent.core.initialize_notebook() # to display chart / no need to save it as HTML\n",
    "\n",
    "word_freq = count_only.most_common(20)\n",
    "labels, freq = zip(*word_freq)\n",
    "data = {'data': freq, 'x': labels}\n",
    "bar = vincent.Bar(data, iter_idx='x')\n",
    "bar.to_json(git_loc + '/Refugee_Project/Code/Output/term_freq.json')\n",
    "\n",
    "#you could save the HTML template directly from Python with:\n",
    "bar.to_json(git_loc + '/Refugee_Project/Code/Output/term_freq.json', \n",
    "            html_out=True, \n",
    "            html_path= git_loc + '/Refugee_Project/Code/Output/chart.html')"
   ]
  },
  {
   "cell_type": "code",
   "execution_count": 12,
   "metadata": {
    "collapsed": false
   },
   "outputs": [
    {
     "data": {
      "text/html": [
       "<div id=\"visc7a992d95c7b4bb2bca34e6c46579820\"></div>\n",
       "<script>\n",
       "   ( function() {\n",
       "     var _do_plot = function() {\n",
       "       if (typeof vg === 'undefined') {\n",
       "         window.addEventListener('vincent_libs_loaded', _do_plot)\n",
       "         return;\n",
       "       }\n",
       "       vg.parse.spec({\"axes\": [{\"scale\": \"x\", \"title\": \"Index\", \"type\": \"x\"}, {\"scale\": \"y\", \"title\": \"Value\", \"type\": \"y\"}], \"data\": [{\"name\": \"table\", \"values\": [{\"col\": \"data\", \"idx\": \"refugee\", \"val\": 9270}, {\"col\": \"data\", \"idx\": \"Clooney\", \"val\": 7396}, {\"col\": \"data\", \"idx\": \"George\", \"val\": 4959}, {\"col\": \"data\", \"idx\": \"Migrant\", \"val\": 4720}, {\"col\": \"data\", \"idx\": \"migrant\", \"val\": 4076}, {\"col\": \"data\", \"idx\": \"amp\", \"val\": 3798}, {\"col\": \"data\", \"idx\": \"The\", \"val\": 3263}, {\"col\": \"data\", \"idx\": \"terrorists\", \"val\": 3259}, {\"col\": \"data\", \"idx\": \"I\", \"val\": 3019}, {\"col\": \"data\", \"idx\": \"Refugee\", \"val\": 2983}, {\"col\": \"data\", \"idx\": \"hypocrite\", \"val\": 2944}, {\"col\": \"data\", \"idx\": \"Europe\", \"val\": 2939}, {\"col\": \"data\", \"idx\": \"world\", \"val\": 2795}, {\"col\": \"data\", \"idx\": \"like\", \"val\": 2678}, {\"col\": \"data\", \"idx\": \"produce\", \"val\": 2512}, {\"col\": \"data\", \"idx\": \"You\", \"val\": 2392}, {\"col\": \"data\", \"idx\": \"still\", \"val\": 2377}, {\"col\": \"data\", \"idx\": \"crisis\", \"val\": 2366}, {\"col\": \"data\", \"idx\": \"people\", \"val\": 2317}, {\"col\": \"data\", \"idx\": \"fucking\", \"val\": 2247}]}, {\"name\": \"stats\", \"source\": \"table\", \"transform\": [{\"keys\": [\"data.idx\"], \"type\": \"facet\"}, {\"type\": \"stats\", \"value\": \"data.val\"}]}], \"height\": 500, \"legends\": [], \"marks\": [{\"from\": {\"data\": \"table\", \"transform\": [{\"keys\": [\"data.col\"], \"type\": \"facet\"}, {\"height\": \"data.val\", \"point\": \"data.idx\", \"type\": \"stack\"}]}, \"marks\": [{\"properties\": {\"enter\": {\"fill\": {\"field\": \"data.col\", \"scale\": \"color\"}, \"width\": {\"band\": true, \"offset\": -1, \"scale\": \"x\"}, \"x\": {\"field\": \"data.idx\", \"scale\": \"x\"}, \"y\": {\"field\": \"y\", \"scale\": \"y\"}, \"y2\": {\"field\": \"y2\", \"scale\": \"y\"}}}, \"type\": \"rect\"}], \"type\": \"group\"}], \"padding\": \"auto\", \"scales\": [{\"domain\": {\"data\": \"table\", \"field\": \"data.idx\"}, \"name\": \"x\", \"range\": \"width\", \"type\": \"ordinal\", \"zero\": false}, {\"domain\": {\"data\": \"stats\", \"field\": \"sum\"}, \"name\": \"y\", \"nice\": true, \"range\": \"height\"}, {\"domain\": {\"data\": \"table\", \"field\": \"data.col\"}, \"name\": \"color\", \"range\": \"category20\", \"type\": \"ordinal\"}], \"width\": 960}, function(chart) {\n",
       "         chart({el: \"#visc7a992d95c7b4bb2bca34e6c46579820\"}).update();\n",
       "       });\n",
       "     };\n",
       "     _do_plot();\n",
       "   })();\n",
       "</script>\n",
       "<style>.vega canvas {width: 100%;}</style>\n",
       "        "
      ],
      "text/plain": [
       "<vincent.charts.Bar at 0x10eea9208>"
      ]
     },
     "execution_count": 12,
     "metadata": {},
     "output_type": "execute_result"
    }
   ],
   "source": [
    "bar.axis_titles(x='Index', y='Value')"
   ]
  },
  {
   "cell_type": "markdown",
   "metadata": {},
   "source": [
    "## Time series"
   ]
  },
  {
   "cell_type": "code",
   "execution_count": 13,
   "metadata": {
    "collapsed": false
   },
   "outputs": [
    {
     "name": "stderr",
     "output_type": "stream",
     "text": [
      "/Users/MLL/anaconda/lib/python3.5/site-packages/ipykernel/__main__.py:23: FutureWarning: how in .resample() is deprecated\n",
      "the new syntax is .resample(...).sum()\n"
     ]
    }
   ],
   "source": [
    "import pandas\n",
    "import json\n",
    " \n",
    "dates_hashtag = []\n",
    "# f is the file pointer to the JSON data set\n",
    "for tweet_index in range(len(tweets_data)):\n",
    "    tweet = tweets_data[tweet_index]\n",
    "    # let's focus on hashtags only at the moment\n",
    "    if 'text' in tweet.keys():\n",
    "        terms_hash = [term for term in preprocess(tweet['text']) if term.startswith('#')]\n",
    "        # track when the hashtag is mentioned\n",
    "        if '#refugee' in terms_hash:\n",
    "            dates_hashtag.append(tweet['created_at'])\n",
    "\n",
    "# a list of \"1\" to count the hashtags\n",
    "ones = [1]*len(dates_hashtag)\n",
    "# the index of the series\n",
    "idx = pandas.DatetimeIndex(dates_hashtag)\n",
    "# the actual series (at series of 1s for the moment)\n",
    "hashtag = pandas.Series(ones, index=idx)\n",
    " \n",
    "# Resampling / bucketing\n",
    "per_minute = hashtag.resample('30Min', how='sum').fillna(0)\n",
    "#per_hour = hashtag.resample('60Min', how='sum').fillna(0)"
   ]
  },
  {
   "cell_type": "code",
   "execution_count": 14,
   "metadata": {
    "collapsed": false
   },
   "outputs": [],
   "source": [
    "time_chart = vincent.Line(hashtag)\n",
    "time_chart.axis_titles(x='Time', y='Freq')\n",
    "time_chart.to_json(git_loc + '/Refugee_Project/Code/Output/time_chart.json')"
   ]
  },
  {
   "cell_type": "code",
   "execution_count": 15,
   "metadata": {
    "collapsed": false
   },
   "outputs": [
    {
     "data": {
      "text/html": [
       "<div id=\"vis28eb3d6188c04ac2a1f7129f50b4464c\"></div>\n",
       "<script>\n",
       "   ( function() {\n",
       "     var _do_plot = function() {\n",
       "       if (typeof vg === 'undefined') {\n",
       "         window.addEventListener('vincent_libs_loaded', _do_plot)\n",
       "         return;\n",
       "       }\n",
       "       vg.parse.spec({\"axes\": [{\"scale\": \"x\", \"title\": \"Time\", \"type\": \"x\"}, {\"scale\": \"y\", \"title\": \"Freq\", \"type\": \"y\"}], \"data\": [{\"name\": \"table\", \"values\": [{\"col\": \"data\", \"idx\": 1499618217000, \"val\": 1}, {\"col\": \"data\", \"idx\": 1499619082000, \"val\": 1}, {\"col\": \"data\", \"idx\": 1499619614000, \"val\": 1}, {\"col\": \"data\", \"idx\": 1499620515000, \"val\": 1}, {\"col\": \"data\", \"idx\": 1499620866000, \"val\": 1}, {\"col\": \"data\", \"idx\": 1499620921000, \"val\": 1}, {\"col\": \"data\", \"idx\": 1499620989000, \"val\": 1}, {\"col\": \"data\", \"idx\": 1499621427000, \"val\": 1}, {\"col\": \"data\", \"idx\": 1499621446000, \"val\": 1}, {\"col\": \"data\", \"idx\": 1499621525000, \"val\": 1}, {\"col\": \"data\", \"idx\": 1499621946000, \"val\": 1}, {\"col\": \"data\", \"idx\": 1499622007000, \"val\": 1}, {\"col\": \"data\", \"idx\": 1499622319000, \"val\": 1}, {\"col\": \"data\", \"idx\": 1499622540000, \"val\": 1}, {\"col\": \"data\", \"idx\": 1499623216000, \"val\": 1}, {\"col\": \"data\", \"idx\": 1499623415000, \"val\": 1}, {\"col\": \"data\", \"idx\": 1499623506000, \"val\": 1}, {\"col\": \"data\", \"idx\": 1499623883000, \"val\": 1}, {\"col\": \"data\", \"idx\": 1499624055000, \"val\": 1}, {\"col\": \"data\", \"idx\": 1499625426000, \"val\": 1}, {\"col\": \"data\", \"idx\": 1499625567000, \"val\": 1}, {\"col\": \"data\", \"idx\": 1499625843000, \"val\": 1}, {\"col\": \"data\", \"idx\": 1499625884000, \"val\": 1}, {\"col\": \"data\", \"idx\": 1499625903000, \"val\": 1}, {\"col\": \"data\", \"idx\": 1499626630000, \"val\": 1}, {\"col\": \"data\", \"idx\": 1499628321000, \"val\": 1}, {\"col\": \"data\", \"idx\": 1499628472000, \"val\": 1}, {\"col\": \"data\", \"idx\": 1499628638000, \"val\": 1}, {\"col\": \"data\", \"idx\": 1499629036000, \"val\": 1}, {\"col\": \"data\", \"idx\": 1499629813000, \"val\": 1}, {\"col\": \"data\", \"idx\": 1499630868000, \"val\": 1}, {\"col\": \"data\", \"idx\": 1499631307000, \"val\": 1}, {\"col\": \"data\", \"idx\": 1499631320000, \"val\": 1}, {\"col\": \"data\", \"idx\": 1499631428000, \"val\": 1}, {\"col\": \"data\", \"idx\": 1499631495000, \"val\": 1}, {\"col\": \"data\", \"idx\": 1499631985000, \"val\": 1}, {\"col\": \"data\", \"idx\": 1499632201000, \"val\": 1}, {\"col\": \"data\", \"idx\": 1499632214000, \"val\": 1}, {\"col\": \"data\", \"idx\": 1499632700000, \"val\": 1}, {\"col\": \"data\", \"idx\": 1499632828000, \"val\": 1}, {\"col\": \"data\", \"idx\": 1499633135000, \"val\": 1}, {\"col\": \"data\", \"idx\": 1499633272000, \"val\": 1}, {\"col\": \"data\", \"idx\": 1499633576000, \"val\": 1}, {\"col\": \"data\", \"idx\": 1499633883000, \"val\": 1}, {\"col\": \"data\", \"idx\": 1499633886000, \"val\": 1}, {\"col\": \"data\", \"idx\": 1499634001000, \"val\": 1}, {\"col\": \"data\", \"idx\": 1499634046000, \"val\": 1}, {\"col\": \"data\", \"idx\": 1499634130000, \"val\": 1}, {\"col\": \"data\", \"idx\": 1499634456000, \"val\": 1}, {\"col\": \"data\", \"idx\": 1499634614000, \"val\": 1}, {\"col\": \"data\", \"idx\": 1499634671000, \"val\": 1}, {\"col\": \"data\", \"idx\": 1499634757000, \"val\": 1}, {\"col\": \"data\", \"idx\": 1499635530000, \"val\": 1}, {\"col\": \"data\", \"idx\": 1499635600000, \"val\": 1}, {\"col\": \"data\", \"idx\": 1499636150000, \"val\": 1}, {\"col\": \"data\", \"idx\": 1499636369000, \"val\": 1}, {\"col\": \"data\", \"idx\": 1499636410000, \"val\": 1}, {\"col\": \"data\", \"idx\": 1499636582000, \"val\": 1}, {\"col\": \"data\", \"idx\": 1499636785000, \"val\": 1}, {\"col\": \"data\", \"idx\": 1499636800000, \"val\": 1}, {\"col\": \"data\", \"idx\": 1499636872000, \"val\": 1}, {\"col\": \"data\", \"idx\": 1499637388000, \"val\": 1}, {\"col\": \"data\", \"idx\": 1499637394000, \"val\": 1}, {\"col\": \"data\", \"idx\": 1499637572000, \"val\": 1}, {\"col\": \"data\", \"idx\": 1499637935000, \"val\": 1}, {\"col\": \"data\", \"idx\": 1499638128000, \"val\": 1}, {\"col\": \"data\", \"idx\": 1499638361000, \"val\": 1}, {\"col\": \"data\", \"idx\": 1499638435000, \"val\": 1}, {\"col\": \"data\", \"idx\": 1499638499000, \"val\": 1}, {\"col\": \"data\", \"idx\": 1499638512000, \"val\": 1}, {\"col\": \"data\", \"idx\": 1499639033000, \"val\": 1}, {\"col\": \"data\", \"idx\": 1499639683000, \"val\": 1}, {\"col\": \"data\", \"idx\": 1499640550000, \"val\": 1}, {\"col\": \"data\", \"idx\": 1499640684000, \"val\": 1}, {\"col\": \"data\", \"idx\": 1499640714000, \"val\": 1}, {\"col\": \"data\", \"idx\": 1499640890000, \"val\": 1}, {\"col\": \"data\", \"idx\": 1499640930000, \"val\": 1}, {\"col\": \"data\", \"idx\": 1499640959000, \"val\": 1}, {\"col\": \"data\", \"idx\": 1499641039000, \"val\": 1}, {\"col\": \"data\", \"idx\": 1499641214000, \"val\": 1}, {\"col\": \"data\", \"idx\": 1499641217000, \"val\": 1}, {\"col\": \"data\", \"idx\": 1499641253000, \"val\": 1}, {\"col\": \"data\", \"idx\": 1499641510000, \"val\": 1}, {\"col\": \"data\", \"idx\": 1499641691000, \"val\": 1}, {\"col\": \"data\", \"idx\": 1499642111000, \"val\": 1}, {\"col\": \"data\", \"idx\": 1499642130000, \"val\": 1}, {\"col\": \"data\", \"idx\": 1499642181000, \"val\": 1}, {\"col\": \"data\", \"idx\": 1499642626000, \"val\": 1}, {\"col\": \"data\", \"idx\": 1499642736000, \"val\": 1}, {\"col\": \"data\", \"idx\": 1499643027000, \"val\": 1}, {\"col\": \"data\", \"idx\": 1499643060000, \"val\": 1}, {\"col\": \"data\", \"idx\": 1499643314000, \"val\": 1}, {\"col\": \"data\", \"idx\": 1499643455000, \"val\": 1}, {\"col\": \"data\", \"idx\": 1499643773000, \"val\": 1}, {\"col\": \"data\", \"idx\": 1499643918000, \"val\": 1}, {\"col\": \"data\", \"idx\": 1499644037000, \"val\": 1}, {\"col\": \"data\", \"idx\": 1499644464000, \"val\": 1}, {\"col\": \"data\", \"idx\": 1499644551000, \"val\": 1}, {\"col\": \"data\", \"idx\": 1499644753000, \"val\": 1}, {\"col\": \"data\", \"idx\": 1499644755000, \"val\": 1}, {\"col\": \"data\", \"idx\": 1499644807000, \"val\": 1}, {\"col\": \"data\", \"idx\": 1499644816000, \"val\": 1}, {\"col\": \"data\", \"idx\": 1499644845000, \"val\": 1}, {\"col\": \"data\", \"idx\": 1499644932000, \"val\": 1}, {\"col\": \"data\", \"idx\": 1499645041000, \"val\": 1}, {\"col\": \"data\", \"idx\": 1499645106000, \"val\": 1}, {\"col\": \"data\", \"idx\": 1499645125000, \"val\": 1}, {\"col\": \"data\", \"idx\": 1499645141000, \"val\": 1}, {\"col\": \"data\", \"idx\": 1499645198000, \"val\": 1}, {\"col\": \"data\", \"idx\": 1499645242000, \"val\": 1}, {\"col\": \"data\", \"idx\": 1499645281000, \"val\": 1}, {\"col\": \"data\", \"idx\": 1499645426000, \"val\": 1}, {\"col\": \"data\", \"idx\": 1499645500000, \"val\": 1}, {\"col\": \"data\", \"idx\": 1499645524000, \"val\": 1}, {\"col\": \"data\", \"idx\": 1499645555000, \"val\": 1}, {\"col\": \"data\", \"idx\": 1499645591000, \"val\": 1}, {\"col\": \"data\", \"idx\": 1499645612000, \"val\": 1}, {\"col\": \"data\", \"idx\": 1499645654000, \"val\": 1}, {\"col\": \"data\", \"idx\": 1499645671000, \"val\": 1}, {\"col\": \"data\", \"idx\": 1499645675000, \"val\": 1}, {\"col\": \"data\", \"idx\": 1499645708000, \"val\": 1}, {\"col\": \"data\", \"idx\": 1499645727000, \"val\": 1}, {\"col\": \"data\", \"idx\": 1499645778000, \"val\": 1}, {\"col\": \"data\", \"idx\": 1499645810000, \"val\": 1}, {\"col\": \"data\", \"idx\": 1499645996000, \"val\": 1}, {\"col\": \"data\", \"idx\": 1499646075000, \"val\": 1}, {\"col\": \"data\", \"idx\": 1499646173000, \"val\": 1}, {\"col\": \"data\", \"idx\": 1499646240000, \"val\": 1}, {\"col\": \"data\", \"idx\": 1499646249000, \"val\": 1}, {\"col\": \"data\", \"idx\": 1499646264000, \"val\": 1}, {\"col\": \"data\", \"idx\": 1499646454000, \"val\": 1}, {\"col\": \"data\", \"idx\": 1499646462000, \"val\": 1}, {\"col\": \"data\", \"idx\": 1499646546000, \"val\": 1}, {\"col\": \"data\", \"idx\": 1499646688000, \"val\": 1}, {\"col\": \"data\", \"idx\": 1499646726000, \"val\": 1}, {\"col\": \"data\", \"idx\": 1499646923000, \"val\": 1}, {\"col\": \"data\", \"idx\": 1499646978000, \"val\": 1}, {\"col\": \"data\", \"idx\": 1499647060000, \"val\": 1}, {\"col\": \"data\", \"idx\": 1499647336000, \"val\": 1}, {\"col\": \"data\", \"idx\": 1499647499000, \"val\": 1}, {\"col\": \"data\", \"idx\": 1499648346000, \"val\": 1}, {\"col\": \"data\", \"idx\": 1499648492000, \"val\": 1}, {\"col\": \"data\", \"idx\": 1499648626000, \"val\": 1}, {\"col\": \"data\", \"idx\": 1499648705000, \"val\": 1}, {\"col\": \"data\", \"idx\": 1499648754000, \"val\": 1}, {\"col\": \"data\", \"idx\": 1499648792000, \"val\": 1}, {\"col\": \"data\", \"idx\": 1499648871000, \"val\": 1}, {\"col\": \"data\", \"idx\": 1499649657000, \"val\": 1}, {\"col\": \"data\", \"idx\": 1499649972000, \"val\": 1}, {\"col\": \"data\", \"idx\": 1499650219000, \"val\": 1}, {\"col\": \"data\", \"idx\": 1499650462000, \"val\": 1}, {\"col\": \"data\", \"idx\": 1499650729000, \"val\": 1}, {\"col\": \"data\", \"idx\": 1499651195000, \"val\": 1}, {\"col\": \"data\", \"idx\": 1499651219000, \"val\": 1}, {\"col\": \"data\", \"idx\": 1499651437000, \"val\": 1}, {\"col\": \"data\", \"idx\": 1499651490000, \"val\": 1}, {\"col\": \"data\", \"idx\": 1499652383000, \"val\": 1}, {\"col\": \"data\", \"idx\": 1499653085000, \"val\": 1}, {\"col\": \"data\", \"idx\": 1499653087000, \"val\": 1}, {\"col\": \"data\", \"idx\": 1499653194000, \"val\": 1}, {\"col\": \"data\", \"idx\": 1499653291000, \"val\": 1}, {\"col\": \"data\", \"idx\": 1499653316000, \"val\": 1}, {\"col\": \"data\", \"idx\": 1499653381000, \"val\": 1}, {\"col\": \"data\", \"idx\": 1499653392000, \"val\": 1}, {\"col\": \"data\", \"idx\": 1499653394000, \"val\": 1}, {\"col\": \"data\", \"idx\": 1499654095000, \"val\": 1}, {\"col\": \"data\", \"idx\": 1499654416000, \"val\": 1}, {\"col\": \"data\", \"idx\": 1499654973000, \"val\": 1}, {\"col\": \"data\", \"idx\": 1499654993000, \"val\": 1}, {\"col\": \"data\", \"idx\": 1499655036000, \"val\": 1}, {\"col\": \"data\", \"idx\": 1499655310000, \"val\": 1}, {\"col\": \"data\", \"idx\": 1499655535000, \"val\": 1}, {\"col\": \"data\", \"idx\": 1499655603000, \"val\": 1}, {\"col\": \"data\", \"idx\": 1499655906000, \"val\": 1}, {\"col\": \"data\", \"idx\": 1499656320000, \"val\": 1}, {\"col\": \"data\", \"idx\": 1499656587000, \"val\": 1}, {\"col\": \"data\", \"idx\": 1499656873000, \"val\": 1}, {\"col\": \"data\", \"idx\": 1499656931000, \"val\": 1}, {\"col\": \"data\", \"idx\": 1499657584000, \"val\": 1}, {\"col\": \"data\", \"idx\": 1499657599000, \"val\": 1}, {\"col\": \"data\", \"idx\": 1499657609000, \"val\": 1}, {\"col\": \"data\", \"idx\": 1499658478000, \"val\": 1}, {\"col\": \"data\", \"idx\": 1499660209000, \"val\": 1}, {\"col\": \"data\", \"idx\": 1499660215000, \"val\": 1}, {\"col\": \"data\", \"idx\": 1499662104000, \"val\": 1}, {\"col\": \"data\", \"idx\": 1499662441000, \"val\": 1}, {\"col\": \"data\", \"idx\": 1499662628000, \"val\": 1}, {\"col\": \"data\", \"idx\": 1499662816000, \"val\": 1}, {\"col\": \"data\", \"idx\": 1499662834000, \"val\": 1}, {\"col\": \"data\", \"idx\": 1499663150000, \"val\": 1}, {\"col\": \"data\", \"idx\": 1499663500000, \"val\": 1}, {\"col\": \"data\", \"idx\": 1499663711000, \"val\": 1}, {\"col\": \"data\", \"idx\": 1499663903000, \"val\": 1}, {\"col\": \"data\", \"idx\": 1499663996000, \"val\": 1}, {\"col\": \"data\", \"idx\": 1499664236000, \"val\": 1}, {\"col\": \"data\", \"idx\": 1499664505000, \"val\": 1}, {\"col\": \"data\", \"idx\": 1499664623000, \"val\": 1}, {\"col\": \"data\", \"idx\": 1499665075000, \"val\": 1}, {\"col\": \"data\", \"idx\": 1499665516000, \"val\": 1}]}], \"height\": 500, \"legends\": [], \"marks\": [{\"from\": {\"data\": \"table\", \"transform\": [{\"keys\": [\"data.col\"], \"type\": \"facet\"}]}, \"marks\": [{\"properties\": {\"enter\": {\"stroke\": {\"field\": \"data.col\", \"scale\": \"color\"}, \"strokeWidth\": {\"value\": 2}, \"x\": {\"field\": \"data.idx\", \"scale\": \"x\"}, \"y\": {\"field\": \"data.val\", \"scale\": \"y\"}}}, \"type\": \"line\"}], \"type\": \"group\"}], \"padding\": \"auto\", \"scales\": [{\"domain\": {\"data\": \"table\", \"field\": \"data.idx\"}, \"name\": \"x\", \"range\": \"width\", \"type\": \"time\"}, {\"domain\": {\"data\": \"table\", \"field\": \"data.val\"}, \"name\": \"y\", \"nice\": true, \"range\": \"height\"}, {\"domain\": {\"data\": \"table\", \"field\": \"data.col\"}, \"name\": \"color\", \"range\": \"category20\", \"type\": \"ordinal\"}], \"width\": 960}, function(chart) {\n",
       "         chart({el: \"#vis28eb3d6188c04ac2a1f7129f50b4464c\"}).update();\n",
       "       });\n",
       "     };\n",
       "     _do_plot();\n",
       "   })();\n",
       "</script>\n",
       "<style>.vega canvas {width: 100%;}</style>\n",
       "        "
      ],
      "text/plain": [
       "<vincent.charts.Line at 0x159fb7b00>"
      ]
     },
     "execution_count": 15,
     "metadata": {},
     "output_type": "execute_result"
    }
   ],
   "source": [
    "time_chart"
   ]
  },
  {
   "cell_type": "markdown",
   "metadata": {},
   "source": [
    "### Sentiment Analysis with PMI\n",
    "\n",
    "I will use other methods such as LSA (Latent Semantic Analysis), or classification ones"
   ]
  },
  {
   "cell_type": "code",
   "execution_count": 16,
   "metadata": {
    "collapsed": false
   },
   "outputs": [],
   "source": [
    "# Count terms only once, equivalent to Document Frequency\n",
    "#terms_single = set(terms_all)\n",
    "\n",
    "#count_stop_single = Counter()\n",
    "\n",
    "n_docs = len(tweets_data)\n",
    "# n_docs is the total n. of tweets\n",
    "p_t = {}\n",
    "p_t_com = defaultdict(lambda : defaultdict(int))\n",
    " \n",
    "for term, n in count_only.items():#count_stop_single.items():\n",
    "    p_t[term] = n / n_docs\n",
    "    for t2 in com[term]:\n",
    "        p_t_com[term][t2] = com[term][t2] / n_docs"
   ]
  },
  {
   "cell_type": "code",
   "execution_count": 17,
   "metadata": {
    "collapsed": true
   },
   "outputs": [],
   "source": [
    "positive_vocab = [\n",
    "    'good', 'nice', 'great', 'awesome', 'outstanding',\n",
    "    'fantastic', 'terrific', ':)', ':-)', 'like', 'love',\n",
    "    # shall we also include game-specific terms?\n",
    "    # 'triumph', 'triumphal', 'triumphant', 'victory', etc.\n",
    "]\n",
    "negative_vocab = [\n",
    "    'bad', 'terrible', 'crap', 'useless', 'hate', ':(', ':-(',\n",
    "    # 'defeat', etc.\n",
    "]"
   ]
  },
  {
   "cell_type": "code",
   "execution_count": 18,
   "metadata": {
    "collapsed": false
   },
   "outputs": [],
   "source": [
    "import math\n",
    "\n",
    "pmi = defaultdict(lambda : defaultdict(int))\n",
    "for t1 in p_t:\n",
    "    for t2 in com[t1]:\n",
    "        denom = p_t[t1] * p_t[t2]\n",
    "        pmi[t1][t2] = math.log2(p_t_com[t1][t2] / denom)\n",
    "\n",
    "semantic_orientation = {}\n",
    "for term, n in p_t.items():\n",
    "    positive_assoc = sum(pmi[term][tx] for tx in positive_vocab)\n",
    "    negative_assoc = sum(pmi[term][tx] for tx in negative_vocab)\n",
    "    semantic_orientation[term] = positive_assoc - negative_assoc\n"
   ]
  },
  {
   "cell_type": "code",
   "execution_count": 19,
   "metadata": {
    "collapsed": true
   },
   "outputs": [],
   "source": [
    "semantic_sorted = sorted(semantic_orientation.items(), \n",
    "                         key=operator.itemgetter(1), \n",
    "                         reverse=True)\n",
    "\n",
    "# get the top/flop 10\n",
    "top_pos = semantic_sorted[:10]\n",
    "top_neg = semantic_sorted[-10:]"
   ]
  },
  {
   "cell_type": "code",
   "execution_count": 20,
   "metadata": {
    "collapsed": false
   },
   "outputs": [
    {
     "data": {
      "text/plain": [
       "[('cool', 20.996254133081543),\n",
       " ('clapping', 20.988692254828496),\n",
       " ('Twit', 17.302578821898173),\n",
       " ('dang', 17.302578821898173),\n",
       " ('deed', 17.302578821898173),\n",
       " ('Austrians', 17.302578821898173),\n",
       " ('Bristol', 17.195583839360587),\n",
       " ('hometown', 15.073053678254631),\n",
       " ('revitalized', 15.073053678254631),\n",
       " ('Utica', 15.073053678254631)]"
      ]
     },
     "execution_count": 20,
     "metadata": {},
     "output_type": "execute_result"
    }
   ],
   "source": [
    "top_pos"
   ]
  },
  {
   "cell_type": "code",
   "execution_count": 21,
   "metadata": {
    "collapsed": false
   },
   "outputs": [
    {
     "data": {
      "text/plain": [
       "[('Britain', -11.88994129218423),\n",
       " ('https://t.co/c129ftAfQC', -12.073053678254631),\n",
       " ('https://t.co/2V1GdBh0zS', -12.073053678254631),\n",
       " ('settle', -12.073053678254631),\n",
       " ('unarmed', -12.073053678254631),\n",
       " ('https://t.co/9UXKEIvLa7', -12.073053678254631),\n",
       " ('marines', -12.073053678254631),\n",
       " ('carriers', -12.073053678254631),\n",
       " ('corvettes', -12.073053678254631),\n",
       " ('When', -12.99086090374935)]"
      ]
     },
     "execution_count": 21,
     "metadata": {},
     "output_type": "execute_result"
    }
   ],
   "source": [
    "top_neg"
   ]
  },
  {
   "cell_type": "markdown",
   "metadata": {
    "collapsed": true
   },
   "source": [
    "## Geolocation"
   ]
  },
  {
   "cell_type": "code",
   "execution_count": 22,
   "metadata": {
    "collapsed": false
   },
   "outputs": [],
   "source": [
    "geo_data = {\n",
    "        \"type\": \"FeatureCollection\",\n",
    "        \"features\": []\n",
    "}\n",
    "\n",
    "for tweet_id in range(len(tweets_data)):\n",
    "    tweet = tweets_data[tweet_id]\n",
    "    if 'coordinates' in tweet.keys():\n",
    "        geo_json_feature = {\n",
    "            \"type\": \"Feature\",\n",
    "            \"geometry\": tweet['coordinates'],\n",
    "            \"properties\": {\n",
    "                \"text\": tweet['text'],\n",
    "                \"created_at\": tweet['created_at']\n",
    "            }\n",
    "        }\n",
    "    geo_data['features'].append(geo_json_feature) \n",
    "\n",
    "# Save geo data\n",
    "\n",
    "with open(git_loc + '/Refugee_Project/Code/Output/geo_data.json', 'r') as f_output:\n",
    "    f_output.write(json.dumps(geo_data, indent=4))"
   ]
  },
  {
   "cell_type": "code",
   "execution_count": 27,
   "metadata": {
    "collapsed": false,
    "scrolled": true
   },
   "outputs": [
    {
     "data": {
      "text/html": [
       "\n",
       "        <iframe\n",
       "            width=\"700\"\n",
       "            height=\"350\"\n",
       "            src=\"map.html\"\n",
       "            frameborder=\"0\"\n",
       "            allowfullscreen\n",
       "        ></iframe>\n",
       "        "
      ],
      "text/plain": [
       "<IPython.lib.display.IFrame at 0x14e922c18>"
      ]
     },
     "execution_count": 27,
     "metadata": {},
     "output_type": "execute_result"
    }
   ],
   "source": [
    "from IPython.display import IFrame\n",
    "IFrame('map.html', width=700, height=350)"
   ]
  },
  {
   "cell_type": "code",
   "execution_count": null,
   "metadata": {
    "collapsed": true
   },
   "outputs": [],
   "source": []
  }
 ],
 "metadata": {
  "anaconda-cloud": {},
  "kernelspec": {
   "display_name": "Python 3",
   "language": "python",
   "name": "python3"
  },
  "language_info": {
   "codemirror_mode": {
    "name": "ipython",
    "version": 3
   },
   "file_extension": ".py",
   "mimetype": "text/x-python",
   "name": "python",
   "nbconvert_exporter": "python",
   "pygments_lexer": "ipython3",
   "version": "3.5.2"
  }
 },
 "nbformat": 4,
 "nbformat_minor": 1
}
